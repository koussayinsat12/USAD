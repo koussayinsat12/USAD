{
  "cells": [
    {
      "cell_type": "markdown",
      "source": [
        "## Clone the github repository"
      ],
      "metadata": {
        "id": "8P1GrQPA-pui"
      }
    },
    {
      "cell_type": "code",
      "execution_count": 1,
      "metadata": {
        "id": "Y3Z8MsRXvShJ"
      },
      "outputs": [],
      "source": [
        "!rm -r sample_data"
      ]
    },
    {
      "cell_type": "code",
      "execution_count": 2,
      "metadata": {
        "colab": {
          "base_uri": "https://localhost:8080/"
        },
        "id": "t94jyA3jxoR9",
        "outputId": "17af728e-fbc5-486a-b907-83b12988355f"
      },
      "outputs": [
        {
          "output_type": "stream",
          "name": "stdout",
          "text": [
            "Cloning into 'usad'...\n",
            "remote: Enumerating objects: 99, done.\u001b[K\n",
            "remote: Counting objects: 100% (38/38), done.\u001b[K\n",
            "remote: Compressing objects: 100% (10/10), done.\u001b[K\n",
            "remote: Total 99 (delta 31), reused 28 (delta 28), pack-reused 61\u001b[K\n",
            "Unpacking objects: 100% (99/99), 2.81 MiB | 8.41 MiB/s, done.\n"
          ]
        }
      ],
      "source": [
        "!git clone https://github.com/manigalati/usad"
      ]
    },
    {
      "cell_type": "code",
      "execution_count": 3,
      "metadata": {
        "colab": {
          "base_uri": "https://localhost:8080/"
        },
        "id": "ABOj1DXIxp_p",
        "outputId": "b91e2d1c-57f6-49d9-95b4-060aebc28c93"
      },
      "outputs": [
        {
          "output_type": "stream",
          "name": "stdout",
          "text": [
            "/content/usad\n"
          ]
        }
      ],
      "source": [
        "%cd usad"
      ]
    },
    {
      "cell_type": "code",
      "execution_count": 4,
      "metadata": {
        "id": "9WhRx93rxvXa"
      },
      "outputs": [],
      "source": [
        "import numpy as np\n",
        "import pandas as pd\n",
        "import matplotlib.pyplot as plt\n",
        "import seaborn as sns\n",
        "import torch\n",
        "import torch.nn as nn\n",
        "from utils import *\n",
        "from usad import *"
      ]
    },
    {
      "cell_type": "code",
      "execution_count": 5,
      "metadata": {
        "colab": {
          "base_uri": "https://localhost:8080/"
        },
        "id": "morc6JgBxyTJ",
        "outputId": "8ad1026e-54ca-4bd6-f717-097820f1896b"
      },
      "outputs": [
        {
          "output_type": "stream",
          "name": "stdout",
          "text": [
            "GPU 0: Tesla T4 (UUID: GPU-b30828f0-bcf0-f1ae-4404-f7cb05392cab)\n"
          ]
        }
      ],
      "source": [
        "!nvidia-smi -L\n",
        "device = get_default_device()"
      ]
    },
    {
      "cell_type": "markdown",
      "source": [
        "## SWAT Dataset"
      ],
      "metadata": {
        "id": "Zban-Zfs_eS8"
      }
    },
    {
      "cell_type": "markdown",
      "source": [
        "the Dataset is a scaled down version of a real-world industrial water treatment plant producing filtered water.The collected dataset consists of 11 days of continuous operation: 7 days collected under normal operations and 4 days collected with attack scenarios"
      ],
      "metadata": {
        "id": "mr_5rpiy-3WE"
      }
    },
    {
      "cell_type": "code",
      "execution_count": 6,
      "metadata": {
        "colab": {
          "base_uri": "https://localhost:8080/"
        },
        "id": "Jh0K1YbYzkGE",
        "outputId": "d7e68146-7efb-4f41-f7e5-4e5f4014e1bf"
      },
      "outputs": [
        {
          "output_type": "stream",
          "name": "stdout",
          "text": [
            "input/SWaT_Dataset_Normal_v1.csv\n",
            "[==================================================] 163.77MB/163.77MB\n",
            "input/SWaT_Dataset_Attack_v0.csv\n",
            "[==================================================] 127.27MB/127.27MB\n"
          ]
        }
      ],
      "source": [
        "!mkdir input\n",
        "#normal period\n",
        "!python gdrivedl.py https://drive.google.com/open?id=1rVJ5ry5GG-ZZi5yI4x9lICB8VhErXwCw input/\n",
        "#anomalies\n",
        "!python gdrivedl.py https://drive.google.com/open?id=1iDYc0OEmidN712fquOBRFjln90SbpaE7 input/"
      ]
    },
    {
      "cell_type": "markdown",
      "source": [
        "## Data Preprocessing"
      ],
      "metadata": {
        "id": "PBSx-Dbd_tKs"
      }
    },
    {
      "cell_type": "code",
      "execution_count": 7,
      "metadata": {
        "colab": {
          "base_uri": "https://localhost:8080/"
        },
        "id": "cFofStYjzqyV",
        "outputId": "f335a3c4-7d59-4a00-e267-abeca15e1299"
      },
      "outputs": [
        {
          "output_type": "stream",
          "name": "stderr",
          "text": [
            "<ipython-input-7-64bc0604a4a1>:1: DtypeWarning: Columns (26) have mixed types. Specify dtype option on import or set low_memory=False.\n",
            "  normal = pd.read_csv(\"input/SWaT_Dataset_Normal_v1.csv\")#, nrows=1000)\n"
          ]
        },
        {
          "output_type": "execute_result",
          "data": {
            "text/plain": [
              "(495000, 51)"
            ]
          },
          "metadata": {},
          "execution_count": 7
        }
      ],
      "source": [
        "normal = pd.read_csv(\"input/SWaT_Dataset_Normal_v1.csv\")#, nrows=1000)\n",
        "normal = normal.drop([\"Timestamp\" , \"Normal/Attack\" ] , axis = 1)\n",
        "normal.shape"
      ]
    },
    {
      "cell_type": "code",
      "execution_count": 8,
      "metadata": {
        "id": "D1aVi4_Oz_1a"
      },
      "outputs": [],
      "source": [
        "for i in list(normal):\n",
        "    normal[i]=normal[i].apply(lambda x: str(x).replace(\",\" , \".\"))\n",
        "normal = normal.astype(float)"
      ]
    },
    {
      "cell_type": "code",
      "execution_count": 9,
      "metadata": {
        "id": "129YBieW2x2e"
      },
      "outputs": [],
      "source": [
        "from sklearn import preprocessing\n",
        "min_max_scaler = preprocessing.MinMaxScaler()\n",
        "\n",
        "x = normal.values\n",
        "x_scaled = min_max_scaler.fit_transform(x)\n",
        "normal = pd.DataFrame(x_scaled)"
      ]
    },
    {
      "cell_type": "code",
      "execution_count": 10,
      "metadata": {
        "colab": {
          "base_uri": "https://localhost:8080/"
        },
        "id": "SxzBABjJ2zai",
        "outputId": "948fec98-e529-482e-a436-0f3957db87e0"
      },
      "outputs": [
        {
          "output_type": "stream",
          "name": "stderr",
          "text": [
            "<ipython-input-10-f9b93f734ade>:1: DtypeWarning: Columns (1,9,28,46) have mixed types. Specify dtype option on import or set low_memory=False.\n",
            "  attack = pd.read_csv(\"input/SWaT_Dataset_Attack_v0.csv\",sep=\";\")#, nrows=1000)\n"
          ]
        },
        {
          "output_type": "execute_result",
          "data": {
            "text/plain": [
              "(449919, 51)"
            ]
          },
          "metadata": {},
          "execution_count": 10
        }
      ],
      "source": [
        "attack = pd.read_csv(\"input/SWaT_Dataset_Attack_v0.csv\",sep=\";\")#, nrows=1000)\n",
        "labels = [ float(label!= 'Normal' ) for label  in attack[\"Normal/Attack\"].values]\n",
        "attack = attack.drop([\"Timestamp\" , \"Normal/Attack\" ] , axis = 1)\n",
        "attack.shape"
      ]
    },
    {
      "cell_type": "code",
      "execution_count": 11,
      "metadata": {
        "id": "5zmgZCPY3DK7"
      },
      "outputs": [],
      "source": [
        "for i in list(attack):\n",
        "    attack[i]=attack[i].apply(lambda x: str(x).replace(\",\" , \".\"))\n",
        "attack = attack.astype(float)"
      ]
    },
    {
      "cell_type": "code",
      "execution_count": 12,
      "metadata": {
        "id": "nRIMZBEe23Pb"
      },
      "outputs": [],
      "source": [
        "from sklearn import preprocessing\n",
        "x = attack.values\n",
        "x_scaled = min_max_scaler.transform(x)\n",
        "attack = pd.DataFrame(x_scaled)"
      ]
    },
    {
      "cell_type": "code",
      "execution_count": 13,
      "metadata": {
        "colab": {
          "base_uri": "https://localhost:8080/"
        },
        "id": "yfdmxNeF2-9K",
        "outputId": "5a780fb1-9ab8-4041-ee66-4be5cc56f2bb"
      },
      "outputs": [
        {
          "output_type": "execute_result",
          "data": {
            "text/plain": [
              "(494988, 12, 51)"
            ]
          },
          "metadata": {},
          "execution_count": 13
        }
      ],
      "source": [
        "window_size=12\n",
        "windows_normal=normal.values[np.arange(window_size)[None, :] + np.arange(normal.shape[0]-window_size)[:, None]]\n",
        "windows_normal.shape"
      ]
    },
    {
      "cell_type": "code",
      "execution_count": 14,
      "metadata": {
        "colab": {
          "base_uri": "https://localhost:8080/"
        },
        "id": "N5OM-_XS3VC8",
        "outputId": "bf802d0d-1863-4b5d-a268-497300fad09f"
      },
      "outputs": [
        {
          "output_type": "execute_result",
          "data": {
            "text/plain": [
              "(449907, 12, 51)"
            ]
          },
          "metadata": {},
          "execution_count": 14
        }
      ],
      "source": [
        "windows_attack=attack.values[np.arange(window_size)[None, :] + np.arange(attack.shape[0]-window_size)[:, None]]\n",
        "windows_attack.shape"
      ]
    },
    {
      "cell_type": "markdown",
      "source": [
        "## Train the Adversarial Autoencoder"
      ],
      "metadata": {
        "id": "ggl9TyATADgy"
      }
    },
    {
      "cell_type": "code",
      "execution_count": 15,
      "metadata": {
        "colab": {
          "base_uri": "https://localhost:8080/"
        },
        "id": "jEVgK6PK3eVk",
        "outputId": "8632b3bd-3546-4e22-9d83-afda615e95f0"
      },
      "outputs": [
        {
          "output_type": "stream",
          "name": "stdout",
          "text": [
            "Epoch [0], val_loss1: 0.0255, val_loss2: 0.0258\n",
            "Epoch [1], val_loss1: 0.0263, val_loss2: -0.0065\n",
            "Epoch [2], val_loss1: 0.1069, val_loss2: -0.0841\n",
            "Epoch [3], val_loss1: 0.0394, val_loss2: -0.0299\n",
            "Epoch [4], val_loss1: 0.0421, val_loss2: -0.0347\n",
            "Epoch [5], val_loss1: 0.0432, val_loss2: -0.0374\n",
            "Epoch [6], val_loss1: 0.0439, val_loss2: -0.0391\n",
            "Epoch [7], val_loss1: 0.0451, val_loss2: -0.0410\n",
            "Epoch [8], val_loss1: 0.0445, val_loss2: -0.0410\n",
            "Epoch [9], val_loss1: 0.0455, val_loss2: -0.0423\n",
            "Epoch [10], val_loss1: 0.0466, val_loss2: -0.0439\n",
            "Epoch [11], val_loss1: 0.0551, val_loss2: -0.0495\n",
            "Epoch [12], val_loss1: 0.0616, val_loss2: -0.0584\n",
            "Epoch [13], val_loss1: 0.0423, val_loss2: -0.0384\n",
            "Epoch [14], val_loss1: 0.0403, val_loss2: -0.0368\n",
            "Epoch [15], val_loss1: 0.0665, val_loss2: -0.0636\n",
            "Epoch [16], val_loss1: 0.0673, val_loss2: -0.0646\n",
            "Epoch [17], val_loss1: 0.0751, val_loss2: -0.0685\n",
            "Epoch [18], val_loss1: 0.0744, val_loss2: -0.0689\n",
            "Epoch [19], val_loss1: 0.0756, val_loss2: -0.0704\n",
            "Epoch [20], val_loss1: 0.0757, val_loss2: -0.0707\n",
            "Epoch [21], val_loss1: 0.0758, val_loss2: -0.0711\n",
            "Epoch [22], val_loss1: 0.0758, val_loss2: -0.0714\n",
            "Epoch [23], val_loss1: 0.0758, val_loss2: -0.0717\n",
            "Epoch [24], val_loss1: 0.0757, val_loss2: -0.0719\n",
            "Epoch [25], val_loss1: 0.0757, val_loss2: -0.0722\n",
            "Epoch [26], val_loss1: 0.0757, val_loss2: -0.0724\n",
            "Epoch [27], val_loss1: 0.0758, val_loss2: -0.0726\n",
            "Epoch [28], val_loss1: 0.0759, val_loss2: -0.0728\n",
            "Epoch [29], val_loss1: 0.0759, val_loss2: -0.0730\n",
            "Epoch [30], val_loss1: 0.0760, val_loss2: -0.0731\n",
            "Epoch [31], val_loss1: 0.0760, val_loss2: -0.0733\n",
            "Epoch [32], val_loss1: 0.0761, val_loss2: -0.0734\n",
            "Epoch [33], val_loss1: 0.0762, val_loss2: -0.0736\n",
            "Epoch [34], val_loss1: 0.0762, val_loss2: -0.0737\n",
            "Epoch [35], val_loss1: 0.0762, val_loss2: -0.0738\n",
            "Epoch [36], val_loss1: 0.0762, val_loss2: -0.0739\n",
            "Epoch [37], val_loss1: 0.0763, val_loss2: -0.0740\n",
            "Epoch [38], val_loss1: 0.0763, val_loss2: -0.0741\n",
            "Epoch [39], val_loss1: 0.0764, val_loss2: -0.0742\n",
            "Epoch [40], val_loss1: 0.0769, val_loss2: -0.0748\n",
            "Epoch [41], val_loss1: 0.0770, val_loss2: -0.0749\n",
            "Epoch [42], val_loss1: 0.0770, val_loss2: -0.0750\n",
            "Epoch [43], val_loss1: 0.0771, val_loss2: -0.0751\n",
            "Epoch [44], val_loss1: 0.0771, val_loss2: -0.0752\n",
            "Epoch [45], val_loss1: 0.0771, val_loss2: -0.0752\n",
            "Epoch [46], val_loss1: 0.0771, val_loss2: -0.0753\n",
            "Epoch [47], val_loss1: 0.0772, val_loss2: -0.0754\n",
            "Epoch [48], val_loss1: 0.0772, val_loss2: -0.0754\n",
            "Epoch [49], val_loss1: 0.0772, val_loss2: -0.0755\n",
            "Epoch [50], val_loss1: 0.0773, val_loss2: -0.0756\n",
            "Epoch [51], val_loss1: 0.0773, val_loss2: -0.0756\n",
            "Epoch [52], val_loss1: 0.0773, val_loss2: -0.0757\n",
            "Epoch [53], val_loss1: 0.0774, val_loss2: -0.0758\n",
            "Epoch [54], val_loss1: 0.0774, val_loss2: -0.0758\n",
            "Epoch [55], val_loss1: 0.0775, val_loss2: -0.0759\n",
            "Epoch [56], val_loss1: 0.0774, val_loss2: -0.0759\n",
            "Epoch [57], val_loss1: 0.0774, val_loss2: -0.0760\n",
            "Epoch [58], val_loss1: 0.0775, val_loss2: -0.0760\n",
            "Epoch [59], val_loss1: 0.0775, val_loss2: -0.0761\n",
            "Epoch [60], val_loss1: 0.0775, val_loss2: -0.0761\n",
            "Epoch [61], val_loss1: 0.0775, val_loss2: -0.0761\n",
            "Epoch [62], val_loss1: 0.0775, val_loss2: -0.0762\n",
            "Epoch [63], val_loss1: 0.0776, val_loss2: -0.0762\n",
            "Epoch [64], val_loss1: 0.0776, val_loss2: -0.0763\n",
            "Epoch [65], val_loss1: 0.0776, val_loss2: -0.0763\n",
            "Epoch [66], val_loss1: 0.0776, val_loss2: -0.0763\n",
            "Epoch [67], val_loss1: 0.0776, val_loss2: -0.0764\n",
            "Epoch [68], val_loss1: 0.0776, val_loss2: -0.0764\n",
            "Epoch [69], val_loss1: 0.0776, val_loss2: -0.0764\n",
            "Epoch [70], val_loss1: 0.0777, val_loss2: -0.0765\n",
            "Epoch [71], val_loss1: 0.0777, val_loss2: -0.0765\n",
            "Epoch [72], val_loss1: 0.0777, val_loss2: -0.0765\n",
            "Epoch [73], val_loss1: 0.0777, val_loss2: -0.0766\n",
            "Epoch [74], val_loss1: 0.0777, val_loss2: -0.0766\n",
            "Epoch [75], val_loss1: 0.0777, val_loss2: -0.0766\n",
            "Epoch [76], val_loss1: 0.0777, val_loss2: -0.0766\n",
            "Epoch [77], val_loss1: 0.0778, val_loss2: -0.0767\n",
            "Epoch [78], val_loss1: 0.0778, val_loss2: -0.0767\n",
            "Epoch [79], val_loss1: 0.0778, val_loss2: -0.0767\n",
            "Epoch [80], val_loss1: 0.0790, val_loss2: -0.0779\n",
            "Epoch [81], val_loss1: 0.0790, val_loss2: -0.0780\n",
            "Epoch [82], val_loss1: 0.0790, val_loss2: -0.0780\n",
            "Epoch [83], val_loss1: 0.0790, val_loss2: -0.0780\n",
            "Epoch [84], val_loss1: 0.0791, val_loss2: -0.0780\n",
            "Epoch [85], val_loss1: 0.0795, val_loss2: -0.0785\n",
            "Epoch [86], val_loss1: 0.0797, val_loss2: -0.0787\n",
            "Epoch [87], val_loss1: 0.0797, val_loss2: -0.0787\n",
            "Epoch [88], val_loss1: 0.0797, val_loss2: -0.0787\n",
            "Epoch [89], val_loss1: 0.0797, val_loss2: -0.0787\n",
            "Epoch [90], val_loss1: 0.0797, val_loss2: -0.0787\n",
            "Epoch [91], val_loss1: 0.0797, val_loss2: -0.0788\n",
            "Epoch [92], val_loss1: 0.0797, val_loss2: -0.0788\n",
            "Epoch [93], val_loss1: 0.0797, val_loss2: -0.0788\n",
            "Epoch [94], val_loss1: 0.0797, val_loss2: -0.0788\n",
            "Epoch [95], val_loss1: 0.0798, val_loss2: -0.0788\n",
            "Epoch [96], val_loss1: 0.0798, val_loss2: -0.0789\n",
            "Epoch [97], val_loss1: 0.0798, val_loss2: -0.0789\n",
            "Epoch [98], val_loss1: 0.0798, val_loss2: -0.0789\n",
            "Epoch [99], val_loss1: 0.0798, val_loss2: -0.0789\n"
          ]
        }
      ],
      "source": [
        "import torch.utils.data as data_utils\n",
        "\n",
        "BATCH_SIZE =  7919\n",
        "N_EPOCHS = 100\n",
        "hidden_size = 100\n",
        "\n",
        "w_size=windows_normal.shape[1]*windows_normal.shape[2]\n",
        "z_size=windows_normal.shape[1]*hidden_size\n",
        "\n",
        "windows_normal_train = windows_normal[:int(np.floor(.8 *  windows_normal.shape[0]))]\n",
        "windows_normal_val = windows_normal[int(np.floor(.8 *  windows_normal.shape[0])):int(np.floor(windows_normal.shape[0]))]\n",
        "\n",
        "train_loader = torch.utils.data.DataLoader(data_utils.TensorDataset(\n",
        "    torch.from_numpy(windows_normal_train).float().view(([windows_normal_train.shape[0],w_size]))\n",
        ") , batch_size=BATCH_SIZE, shuffle=False, num_workers=0)\n",
        "\n",
        "val_loader = torch.utils.data.DataLoader(data_utils.TensorDataset(\n",
        "    torch.from_numpy(windows_normal_val).float().view(([windows_normal_val.shape[0],w_size]))\n",
        ") , batch_size=BATCH_SIZE, shuffle=False, num_workers=0)\n",
        "\n",
        "test_loader = torch.utils.data.DataLoader(data_utils.TensorDataset(\n",
        "    torch.from_numpy(windows_attack).float().view(([windows_attack.shape[0],w_size]))\n",
        ") , batch_size=BATCH_SIZE, shuffle=False, num_workers=0)\n",
        "\n",
        "model = UsadModel(w_size, z_size)\n",
        "model = to_device(model,device)\n",
        "history = training(N_EPOCHS,model,train_loader,val_loader)"
      ]
    },
    {
      "cell_type": "code",
      "execution_count": 16,
      "metadata": {
        "id": "ir8H6hgp3hd8"
      },
      "outputs": [],
      "source": [
        "torch.save({\n",
        "            'encoder': model.encoder.state_dict(),\n",
        "            'decoder1': model.decoder1.state_dict(),\n",
        "            'decoder2': model.decoder2.state_dict()\n",
        "            }, \"model.pth\")"
      ]
    },
    {
      "cell_type": "code",
      "execution_count": 17,
      "metadata": {
        "id": "zjHQ-qnw3oJ6",
        "colab": {
          "base_uri": "https://localhost:8080/"
        },
        "outputId": "e1be5608-6158-45b9-da40-420479b57dcd"
      },
      "outputs": [
        {
          "output_type": "execute_result",
          "data": {
            "text/plain": [
              "<All keys matched successfully>"
            ]
          },
          "metadata": {},
          "execution_count": 17
        }
      ],
      "source": [
        "checkpoint = torch.load(\"model.pth\")\n",
        "\n",
        "model.encoder.load_state_dict(checkpoint['encoder'])\n",
        "model.decoder1.load_state_dict(checkpoint['decoder1'])\n",
        "model.decoder2.load_state_dict(checkpoint['decoder2'])"
      ]
    },
    {
      "cell_type": "markdown",
      "source": [
        "## Model Evaluation and Inference"
      ],
      "metadata": {
        "id": "qhduoxjHAiJ2"
      }
    },
    {
      "cell_type": "code",
      "execution_count": 18,
      "metadata": {
        "id": "8NWqk98K3sL9"
      },
      "outputs": [],
      "source": [
        "results=testing(model,test_loader)"
      ]
    },
    {
      "cell_type": "code",
      "source": [
        "y_pred=np.concatenate([torch.stack(results[:-1]).flatten().detach().cpu().numpy(),\n",
        "                              results[-1].flatten().detach().cpu().numpy()])"
      ],
      "metadata": {
        "id": "IlG2CaTEAyB8"
      },
      "execution_count": 23,
      "outputs": []
    },
    {
      "cell_type": "code",
      "source": [
        "y_pred"
      ],
      "metadata": {
        "colab": {
          "base_uri": "https://localhost:8080/"
        },
        "id": "sUWcMvU9BC1c",
        "outputId": "c3dff539-41d9-43f6-eec7-112d45a64cc6"
      },
      "execution_count": 24,
      "outputs": [
        {
          "output_type": "execute_result",
          "data": {
            "text/plain": [
              "array([0.02558808, 0.02562073, 0.02564567, ..., 0.5310569 , 0.53100437,\n",
              "       0.53091055], dtype=float32)"
            ]
          },
          "metadata": {},
          "execution_count": 24
        }
      ]
    },
    {
      "cell_type": "code",
      "source": [
        "y_test[:5]"
      ],
      "metadata": {
        "colab": {
          "base_uri": "https://localhost:8080/"
        },
        "id": "qFjecjv2BxdK",
        "outputId": "bda9b6d6-0274-490f-9612-86ea6e643941"
      },
      "execution_count": 26,
      "outputs": [
        {
          "output_type": "execute_result",
          "data": {
            "text/plain": [
              "[0, 0, 0, 0, 0]"
            ]
          },
          "metadata": {},
          "execution_count": 26
        }
      ]
    },
    {
      "cell_type": "code",
      "execution_count": 19,
      "metadata": {
        "id": "g39M36ei3vRT",
        "colab": {
          "base_uri": "https://localhost:8080/",
          "height": 449
        },
        "outputId": "aab73e1c-4091-41e4-cd9e-8ef8d7561ae3"
      },
      "outputs": [
        {
          "output_type": "display_data",
          "data": {
            "text/plain": [
              "<Figure size 640x480 with 1 Axes>"
            ],
            "image/png": "[encoded data removed]"
          },
          "metadata": {}
        }
      ],
      "source": [
        "windows_labels=[]\n",
        "for i in range(len(labels)-window_size):\n",
        "    windows_labels.append(list(np.int_(labels[i:i+window_size])))\n",
        "y_test = [1.0 if (np.sum(window) > 0) else 0 for window in windows_labels ]\n",
        "y_pred=np.concatenate([torch.stack(results[:-1]).flatten().detach().cpu().numpy(),\n",
        "                              results[-1].flatten().detach().cpu().numpy()])\n",
        "threshold=ROC(y_test,y_pred)#find the best threshold that give the best F1 score using the roc curve"
      ]
    },
    {
      "cell_type": "code",
      "source": [
        "print(threshold)"
      ],
      "metadata": {
        "colab": {
          "base_uri": "https://localhost:8080/"
        },
        "id": "zk3O_yxdDJD6",
        "outputId": "b7a9aea0-0479-411b-d078-5cdfd961fa9e"
      },
      "execution_count": 29,
      "outputs": [
        {
          "output_type": "stream",
          "name": "stdout",
          "text": [
            "[0.42743772]\n"
          ]
        }
      ]
    }
  ],
  "metadata": {
    "colab": {
      "provenance": [],
      "gpuType": "T4"
    },
    "kernelspec": {
      "display_name": "Python 3",
      "name": "python3"
    },
    "language_info": {
      "name": "python"
    },
    "accelerator": "GPU"
  },
  "nbformat": 4,
  "nbformat_minor": 0
}